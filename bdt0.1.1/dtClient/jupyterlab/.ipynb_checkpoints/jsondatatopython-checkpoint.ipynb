{
 "cells": [
  {
   "cell_type": "code",
   "execution_count": 4,
   "metadata": {},
   "outputs": [],
   "source": [
    "data =  { \"SA4784\" : {\"name\": \"Mark\", \"birthdate\": None},\n",
    "          \"V410Z8\" : { \"name\": \"Vincent\", \"birthdate\": \"15/02/1989\"},\n",
    "          \"CZ1094\" : {\"name\": \"Paul\", \"birthdate\": \"27/09/1994\"}\n",
    "        }\n",
    "\n",
    "def root():\n",
    "    output = data[\"V410Z8\"][\"name\"]\n",
    "    return output"
   ]
  },
  {
   "cell_type": "code",
   "execution_count": 6,
   "metadata": {},
   "outputs": [
    {
     "data": {
      "text/plain": [
       "'Vincent'"
      ]
     },
     "execution_count": 6,
     "metadata": {},
     "output_type": "execute_result"
    }
   ],
   "source": [
    "root()"
   ]
  },
  {
   "cell_type": "code",
   "execution_count": 7,
   "metadata": {},
   "outputs": [],
   "source": [
    "tags_metadata = [\n",
    "    {\n",
    "        \"name\": \"root\",\n",
    "        \"description\": \"Operations with users. The **login** logic is also here.\",\n",
    "        \"date created\": \"22-11-2020\",\n",
    "    },\n",
    "    {\n",
    "        \"name\": \"main\",\n",
    "        \"description\": \"Manage personal items. Goodmorning / announcenments / messages / tips.\",\n",
    "        \"externalDocs\": {\"description\": \"Items external docs\", \"url\": \"https://fastapi.tiangolo.com/\",},\n",
    "    },\n",
    "    {\n",
    "        \"name\": \"dashboard\",\n",
    "        \"description\": \"Operations with tasks.\",\n",
    "    },\n",
    "    {\n",
    "        \"name\": \"about\",\n",
    "        \"description\": \"references and thanks to sources.\",\n",
    "    },\n",
    "]"
   ]
  },
  {
   "cell_type": "code",
   "execution_count": 13,
   "metadata": {},
   "outputs": [],
   "source": [
    "def root2():\n",
    "    output = tags_metadata[\"root\"][\"description\"]\n",
    "    return output"
   ]
  },
  {
   "cell_type": "code",
   "execution_count": 57,
   "metadata": {},
   "outputs": [
    {
     "name": "stdout",
     "output_type": "stream",
     "text": [
      "n ['n', 'n', 'n', 'n'] a\n",
      "d ['n', 'n', 'n', 'n', 'd', 'd', 'd', 'd', 'd', 'd', 'd', 'd', 'd', 'd', 'd'] e\n",
      "e ['n', 'n', 'n', 'n', 'd', 'd', 'd', 'd', 'd', 'd', 'd', 'd', 'd', 'd', 'd', 'e', 'e', 'e', 'e', 'e', 'e', 'e', 'e', 'e', 'e', 'e', 'e'] x\n"
     ]
    }
   ],
   "source": [
    "def root3():\n",
    "    output = []\n",
    "    for i in tags_metadata[1]:\n",
    "            name = i[0]\n",
    "            for char in i: output.append( i[0] );\n",
    "            discribtion = i[1]\n",
    "            print(name, output, discribtion)\n",
    "\n",
    "root3()"
   ]
  },
  {
   "cell_type": "code",
   "execution_count": null,
   "metadata": {},
   "outputs": [],
   "source": []
  },
  {
   "cell_type": "code",
   "execution_count": 18,
   "metadata": {},
   "outputs": [
    {
     "data": {
      "text/plain": [
       "{'name': 'main',\n",
       " 'description': 'Manage personal items. Goodmorning / announcenments / messages / tips.',\n",
       " 'externalDocs': {'description': 'Items external docs',\n",
       "  'url': 'https://fastapi.tiangolo.com/'}}"
      ]
     },
     "execution_count": 18,
     "metadata": {},
     "output_type": "execute_result"
    }
   ],
   "source": [
    "tags_metadata[1]"
   ]
  },
  {
   "cell_type": "code",
   "execution_count": 22,
   "metadata": {},
   "outputs": [
    {
     "data": {
      "text/plain": [
       "0"
      ]
     },
     "execution_count": 22,
     "metadata": {},
     "output_type": "execute_result"
    }
   ],
   "source": [
    "tags_metadata.count(1)"
   ]
  },
  {
   "cell_type": "code",
   "execution_count": 34,
   "metadata": {},
   "outputs": [
    {
     "name": "stdout",
     "output_type": "stream",
     "text": [
      "Type: <class 'list'>\n"
     ]
    }
   ],
   "source": [
    "print(\"Type:\", type(tags_metadata))"
   ]
  },
  {
   "cell_type": "code",
   "execution_count": 68,
   "metadata": {},
   "outputs": [],
   "source": [
    "x = list(filter(lambda x:x[\"name\"]==\"root\",tags_metadata))"
   ]
  },
  {
   "cell_type": "code",
   "execution_count": 69,
   "metadata": {},
   "outputs": [
    {
     "data": {
      "text/plain": [
       "[{'name': 'root',\n",
       "  'description': 'Operations with users. The **login** logic is also here.',\n",
       "  'date created': '22-11-2020'}]"
      ]
     },
     "execution_count": 69,
     "metadata": {},
     "output_type": "execute_result"
    }
   ],
   "source": [
    "x"
   ]
  },
  {
   "cell_type": "code",
   "execution_count": null,
   "metadata": {},
   "outputs": [],
   "source": []
  }
 ],
 "metadata": {
  "kernelspec": {
   "display_name": "Python 3",
   "language": "python",
   "name": "python3"
  },
  "language_info": {
   "codemirror_mode": {
    "name": "ipython",
    "version": 3
   },
   "file_extension": ".py",
   "mimetype": "text/x-python",
   "name": "python",
   "nbconvert_exporter": "python",
   "pygments_lexer": "ipython3",
   "version": "3.9.0"
  }
 },
 "nbformat": 4,
 "nbformat_minor": 4
}
